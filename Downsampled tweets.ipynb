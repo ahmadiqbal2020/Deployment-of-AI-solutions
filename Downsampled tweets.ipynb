{
 "cells": [
  {
   "cell_type": "code",
   "execution_count": 1,
   "id": "685f98d7",
   "metadata": {},
   "outputs": [
    {
     "name": "stdout",
     "output_type": "stream",
     "text": [
      "Downsampling completed. Original size: 451332, Target size: 10000\n"
     ]
    }
   ],
   "source": [
    "import pandas as pd\n",
    "import random\n",
    "\n",
    "def downsample_dataset(input_file, output_file, target_sample_size):\n",
    "    # Load the entire dataset into a DataFrame\n",
    "    df = pd.read_csv('Sentiment_Data.csv', encoding='latin-1')\n",
    "\n",
    "    # Calculate the original size of the dataset\n",
    "    original_size = len(df)\n",
    "\n",
    "    if target_sample_size >= original_size:\n",
    "        print(\"Target sample size is greater than or equal to the original size. No downsampling needed.\")\n",
    "        df.to_csv(output_file, index=False)\n",
    "        return\n",
    "\n",
    "    # Calculate the probability for each record to be included in the downsampled dataset\n",
    "    probability = target_sample_size / original_size\n",
    "\n",
    "    # Generate a random number for each record and include it if it falls below the probability threshold\n",
    "    random.seed(42)  # Setting a seed for reproducibility\n",
    "    mask = [random.random() < probability for _ in range(original_size)]\n",
    "\n",
    "    # Apply the mask to the DataFrame to get the downsampled dataset\n",
    "    downsampled_df = df[mask]\n",
    "\n",
    "    # Save the downsampled dataset to a new CSV file\n",
    "    downsampled_df.to_csv(output_file, index=False)\n",
    "\n",
    "    print(f\"Downsampling completed. Original size: {original_size}, Target size: {target_sample_size}\")\n",
    "\n",
    "# Example usage:\n",
    "input_file_path = 'Sentiment_Data.csv'\n",
    "output_file_path = 'downsampled_dataset.csv'\n",
    "target_sample_size = 10000\n",
    "\n",
    "downsample_dataset(input_file_path, output_file_path, target_sample_size)\n"
   ]
  },
  {
   "cell_type": "code",
   "execution_count": 2,
   "id": "c29f9cb4",
   "metadata": {},
   "outputs": [],
   "source": [
    "import nltk\n",
    "import pandas as pd\n",
    "import numpy as np\n",
    "import re\n",
    "from nltk.corpus import stopwords\n",
    "import matplotlib.pyplot as plt\n",
    "\n",
    "from nltk.stem import WordNetLemmatizer\n",
    "from nltk.tokenize import word_tokenize\n",
    "\n",
    "\n",
    "\n",
    "\n"
   ]
  },
  {
   "cell_type": "code",
   "execution_count": 3,
   "id": "df34fea8",
   "metadata": {},
   "outputs": [],
   "source": [
    "import pandas as pd\n",
    "\n",
    "# Load the dataset into a DataFrame (replace 'path/to/dataset.csv' with your file path)\n",
    "df = pd.read_csv('downsampled_dataset.csv')\n"
   ]
  },
  {
   "cell_type": "code",
   "execution_count": 4,
   "id": "2c580265",
   "metadata": {},
   "outputs": [
    {
     "name": "stdout",
     "output_type": "stream",
     "text": [
      "9927\n",
      "<class 'pandas.core.frame.DataFrame'>\n",
      "RangeIndex: 9927 entries, 0 to 9926\n",
      "Data columns (total 2 columns):\n",
      " #   Column     Non-Null Count  Dtype \n",
      "---  ------     --------------  ----- \n",
      " 0   Tweet      9927 non-null   object\n",
      " 1   Sentiment  9927 non-null   object\n",
      "dtypes: object(2)\n",
      "memory usage: 155.2+ KB\n"
     ]
    }
   ],
   "source": [
    "# Basic exploration of the DataFrame\n",
    "df.head(5)\n",
    "df.columns\n",
    "print(len(df))\n",
    "df.shape\n",
    "df.info()\n",
    "df.dtypes\n",
    "np.sum(df.isnull().any(axis=1))\n",
    "df['Tweet'].unique()\n",
    "df['Sentiment'].unique()\n",
    "df['Tweet'].nunique()\n",
    "df['Sentiment'].nunique()\n",
    "df_string = df['Tweet'].to_string(index=False)\n"
   ]
  },
  {
   "cell_type": "code",
   "execution_count": 5,
   "id": "33d319e4",
   "metadata": {},
   "outputs": [
    {
     "data": {
      "image/png": "[encoded data removed]",
      "text/plain": [
       "<Figure size 640x480 with 1 Axes>"
      ]
     },
     "metadata": {},
     "output_type": "display_data"
    }
   ],
   "source": [
    "import pandas as pd\n",
    "import matplotlib.pyplot as plt\n",
    "\n",
    "# Number of tweets for each sentiment\n",
    "sentiment_counts = df['Sentiment'].value_counts()\n",
    "\n",
    "# Create a bar chart\n",
    "plt.bar(sentiment_counts.index, sentiment_counts.values)\n",
    "\n",
    "plt.title('Sentiment Distribution')\n",
    "plt.xlabel('Sentiment')\n",
    "plt.ylabel('Number of Tweets')\n",
    "\n",
    "# Rotate x-axis labels if needed\n",
    "plt.xticks(rotation=45)\n",
    "\n",
    "plt.show()"
   ]
  },
  {
   "cell_type": "code",
   "execution_count": 6,
   "id": "87bfecec",
   "metadata": {},
   "outputs": [],
   "source": [
    "# Preprocessing - Step 1: Removing non-alphabetic characters\n",
    "df['Tweet'] = df['Tweet'].apply(lambda x: re.sub(r'[^a-zA-Z\\s]', ' ', str(x)))\n",
    "\n",
    "# Preprocessing - Step 2: Removing URLs\n",
    "df['Tweet'] = df['Tweet'].apply(lambda x: re.sub(r'http\\S+|www\\S+|https\\S+', ' ', str(x)))\n",
    "\n",
    "# Preprocessing - Step 3: Removing excessive whitespace\n",
    "df['Tweet'] = df['Tweet'].apply(lambda x: re.sub(r'\\s+', ' ', str(x)).strip())\n"
   ]
  },
  {
   "cell_type": "code",
   "execution_count": 7,
   "id": "e0f0432e",
   "metadata": {},
   "outputs": [],
   "source": [
    "# Tokenization\n",
    "df['tokens'] = df['Tweet'].apply(lambda x: word_tokenize(str(x)))\n",
    "\n",
    "# Converting tokens to lowercase\n",
    "df['tokens'] = df['tokens'].apply(lambda tokens: [token.lower() for token in tokens])\n",
    "\n",
    "# Removing stopwords\n",
    "stop_words = set(stopwords.words('english'))\n",
    "df['tokens'] = df['tokens'].apply(lambda tokens: [token for token in tokens if token not in stop_words])\n",
    "\n",
    "# Lemmatization\n",
    "lemmatizer = WordNetLemmatizer()\n",
    "df['tokens'] = df['tokens'].apply(lambda tokens: [lemmatizer.lemmatize(token) for token in tokens])\n"
   ]
  },
  {
   "cell_type": "code",
   "execution_count": 8,
   "id": "cd5f0323",
   "metadata": {},
   "outputs": [
    {
     "name": "stdout",
     "output_type": "stream",
     "text": [
      "                                               Tweet  \\\n",
      "0  DavidKrayden Happy Anniversary The Day the Fre...   \n",
      "1      CdnFreedomGirl We love the convoy for freedom   \n",
      "2  Freedom Convoy HIGHLIGHTS Honking Machine on P...   \n",
      "3  TamaraUgo Everything that they publish They al...   \n",
      "4  true the noisy few FreedomConvoy freedomconvoy...   \n",
      "\n",
      "                                              tokens   Sentiment  \\\n",
      "0  [davidkrayden, happy, anniversary, day, freedu...    Mild_Pos   \n",
      "1            [cdnfreedomgirl, love, convoy, freedom]  Strong_Pos   \n",
      "2  [freedom, convoy, highlight, honking, machine,...  Strong_Pos   \n",
      "3  [tamaraugo, everything, publish, also, never, ...  Strong_Pos   \n",
      "4  [true, noisy, freedomconvoy, freedomconvoy, th...     Neutral   \n",
      "\n",
      "   sentiment_encoded  \n",
      "0                0.5  \n",
      "1                1.0  \n",
      "2                1.0  \n",
      "3                1.0  \n",
      "4                0.0  \n"
     ]
    }
   ],
   "source": [
    "# Sentiment mapping\n",
    "sentiment_mapping = {\n",
    "    'Strong_Pos': 1,\n",
    "    'Strong_Neg': -1,\n",
    "    'Mild_Pos': 0.5,\n",
    "    'Mild_Neg': -0.5,\n",
    "    'Neutral': 0\n",
    "}\n",
    "df['sentiment_encoded'] = df['Sentiment'].map(sentiment_mapping)\n",
    "\n",
    "# Print the resulting DataFrame\n",
    "print(df[['Tweet', 'tokens', 'Sentiment', 'sentiment_encoded']].head())\n"
   ]
  },
  {
   "cell_type": "code",
   "execution_count": 9,
   "id": "8e78639a",
   "metadata": {},
   "outputs": [],
   "source": [
    "\n",
    "from sklearn.feature_extraction.text import TfidfVectorizer\n",
    "from sklearn.model_selection import train_test_split\n",
    "from sklearn.naive_bayes import MultinomialNB\n",
    "from sklearn.metrics import confusion_matrix, roc_auc_score\n",
    "from sklearn.preprocessing import LabelEncoder\n"
   ]
  },
  {
   "cell_type": "code",
   "execution_count": 10,
   "id": "8a2acdd0",
   "metadata": {},
   "outputs": [],
   "source": [
    "# Clean the text \n",
    "def clean_text(text):\n",
    "    # Remove special characters and website link\n",
    "    text = re.sub(r'[^a-zA-Z\\s]', '', text)\n",
    "    text = re.sub(r'http\\S+|www\\S+|https\\S+', '', text)\n",
    "    # removewhitespace\n",
    "    text = re.sub(r'\\s+', ' ', text)\n",
    "    return text.strip()\n",
    "\n",
    "df['Tweet'] = df['Tweet'].apply(clean_text)\n",
    "\n",
    "\n",
    "\n",
    "\n",
    "# Split the data into training and testing sets\n",
    "X_train, X_test, y_train, y_test = train_test_split(df['Tweet'], df['Sentiment'], test_size=0.2, random_state=42)\n",
    "\n"
   ]
  },
  {
   "cell_type": "code",
   "execution_count": 11,
   "id": "ed164105",
   "metadata": {},
   "outputs": [],
   "source": [
    "# Perform tfidf vectorizer\n",
    "tfidf = TfidfVectorizer()\n",
    "X_train_tfidf = tfidf.fit_transform(X_train)\n",
    "X_test_tfidf = tfidf.transform(X_test)\n"
   ]
  },
  {
   "cell_type": "code",
   "execution_count": 12,
   "id": "794ddbfe",
   "metadata": {},
   "outputs": [],
   "source": [
    "# Encodsentiment labels\n",
    "label_encoder = LabelEncoder()\n",
    "y_train_encoded = label_encoder.fit_transform(y_train)\n",
    "y_test_encoded = label_encoder.transform(y_test)\n"
   ]
  },
  {
   "cell_type": "code",
   "execution_count": 13,
   "id": "ea3bc968",
   "metadata": {},
   "outputs": [],
   "source": [
    "import pandas as pd\n",
    "import numpy as np\n",
    "from sklearn.model_selection import train_test_split\n",
    "from keras.preprocessing.text import Tokenizer\n",
    "from keras.preprocessing.sequence import pad_sequences\n",
    "from keras.models import Sequential\n",
    "from keras.layers import Embedding, GRU, Bidirectional, Dense\n",
    "from sklearn.preprocessing import LabelEncoder\n",
    "from sklearn.metrics import confusion_matrix, roc_auc_score"
   ]
  },
  {
   "cell_type": "code",
   "execution_count": 14,
   "id": "cde2a19b",
   "metadata": {},
   "outputs": [],
   "source": [
    "# Split data into training and testing sets\n",
    "X_train, X_test, y_train, y_test = train_test_split(df['Tweet'], df['Sentiment'], test_size=0.2, random_state=42)"
   ]
  },
  {
   "cell_type": "code",
   "execution_count": 15,
   "id": "60279b20",
   "metadata": {},
   "outputs": [],
   "source": [
    "# Encode the sentiment labels\n",
    "label_encoder = LabelEncoder()\n",
    "y_train_encoded = label_encoder.fit_transform(y_train)\n",
    "y_test_encoded = label_encoder.transform(y_test)"
   ]
  },
  {
   "cell_type": "code",
   "execution_count": 16,
   "id": "e0e64534",
   "metadata": {},
   "outputs": [],
   "source": [
    "# Tokenize the text\n",
    "tokenizer = Tokenizer()\n",
    "tokenizer.fit_on_texts(X_train)\n",
    "X_train_seq = tokenizer.texts_to_sequences(X_train)\n",
    "X_test_seq = tokenizer.texts_to_sequences(X_test)"
   ]
  },
  {
   "cell_type": "code",
   "execution_count": 17,
   "id": "8b79c487",
   "metadata": {},
   "outputs": [],
   "source": [
    "# Pad sequences\n",
    "max_seq_length = max(len(seq) for seq in X_train_seq)\n",
    "X_train_padded = pad_sequences(X_train_seq, maxlen=max_seq_length)\n",
    "X_test_padded = pad_sequences(X_test_seq, maxlen=max_seq_length)"
   ]
  },
  {
   "cell_type": "code",
   "execution_count": 18,
   "id": "d25fcc5c",
   "metadata": {},
   "outputs": [],
   "source": [
    "#Build gru\n",
    "model = Sequential()\n",
    "model.add(Embedding(len(tokenizer.word_index) + 1, 100, input_length=max_seq_length))\n",
    "model.add(Bidirectional(GRU(64, return_sequences=True)))\n",
    "model.add(Bidirectional(GRU(64)))\n",
    "model.add(Dense(label_encoder.classes_.shape[0], activation='softmax'))"
   ]
  },
  {
   "cell_type": "code",
   "execution_count": 19,
   "id": "f206c382",
   "metadata": {},
   "outputs": [],
   "source": [
    "# Compile the model\n",
    "model.compile(loss='sparse_categorical_crossentropy', optimizer='adam', metrics=['accuracy'])"
   ]
  },
  {
   "cell_type": "code",
   "execution_count": 20,
   "id": "aa105f41",
   "metadata": {},
   "outputs": [
    {
     "name": "stdout",
     "output_type": "stream",
     "text": [
      "Epoch 1/10\n",
      "249/249 [==============================] - 9s 31ms/step - loss: 1.2302 - accuracy: 0.5533\n",
      "Epoch 2/10\n",
      "249/249 [==============================] - 8s 32ms/step - loss: 0.8090 - accuracy: 0.6890\n",
      "Epoch 3/10\n",
      "249/249 [==============================] - 8s 32ms/step - loss: 0.3918 - accuracy: 0.8597\n",
      "Epoch 4/10\n",
      "249/249 [==============================] - 8s 33ms/step - loss: 0.1657 - accuracy: 0.9446\n",
      "Epoch 5/10\n",
      "249/249 [==============================] - 8s 33ms/step - loss: 0.0775 - accuracy: 0.9754\n",
      "Epoch 6/10\n",
      "249/249 [==============================] - 9s 34ms/step - loss: 0.0422 - accuracy: 0.9872\n",
      "Epoch 7/10\n",
      "249/249 [==============================] - 9s 35ms/step - loss: 0.0319 - accuracy: 0.9898\n",
      "Epoch 8/10\n",
      "249/249 [==============================] - 9s 37ms/step - loss: 0.0237 - accuracy: 0.9932\n",
      "Epoch 9/10\n",
      "249/249 [==============================] - 9s 35ms/step - loss: 0.0123 - accuracy: 0.9962\n",
      "Epoch 10/10\n",
      "249/249 [==============================] - 8s 33ms/step - loss: 0.0147 - accuracy: 0.9952\n"
     ]
    },
    {
     "data": {
      "text/plain": [
       "<keras.src.callbacks.History at 0x29a5d8850>"
      ]
     },
     "execution_count": 20,
     "metadata": {},
     "output_type": "execute_result"
    }
   ],
   "source": [
    "# Train the model\n",
    "model.fit(X_train_padded, y_train_encoded, epochs=10, batch_size=32)"
   ]
  },
  {
   "cell_type": "code",
   "execution_count": 21,
   "id": "dd4665fd",
   "metadata": {},
   "outputs": [
    {
     "name": "stdout",
     "output_type": "stream",
     "text": [
      "63/63 [==============================] - 1s 9ms/step\n",
      "Accuracy: 0.5206445115810675\n",
      "Precision: 0.39537307375752395\n",
      "Recall: 0.37615189331221427\n",
      "F1-score: 0.3758152041155296\n",
      "Confusion Matrix:\n",
      "[[ 15  32  37  26  29]\n",
      " [  9  78  89  14  98]\n",
      " [ 10  50 152  22  86]\n",
      " [ 15  31  55  63  23]\n",
      " [ 13 151 141  21 726]]\n"
     ]
    }
   ],
   "source": [
    "from sklearn.metrics import accuracy_score, precision_score, recall_score, f1_score, confusion_matrix\n",
    "# Predict sentiment probabilities for the test set\n",
    "y_pred_prob = model.predict(X_test_padded)\n",
    "\n",
    "# Convert probabilities to class labels\n",
    "y_pred_labels = label_encoder.inverse_transform(y_pred_prob.argmax(axis=1))\n",
    "\n",
    "# Calculate evaluation metrics\n",
    "accuracy = accuracy_score(y_test, y_pred_labels)\n",
    "precision = precision_score(y_test, y_pred_labels, average='macro')\n",
    "recall = recall_score(y_test, y_pred_labels, average='macro')\n",
    "f1 = f1_score(y_test, y_pred_labels, average='macro')\n",
    "confusion_mat = confusion_matrix(y_test, y_pred_labels)\n",
    "\n",
    "# Print the evaluation metrics and confusion matrix\n",
    "print(\"Accuracy:\", accuracy)\n",
    "print(\"Precision:\", precision)\n",
    "print(\"Recall:\", recall)\n",
    "print(\"F1-score:\", f1)\n",
    "print(\"Confusion Matrix:\")\n",
    "print(confusion_mat)"
   ]
  },
  {
   "cell_type": "code",
   "execution_count": 22,
   "id": "28086f84",
   "metadata": {},
   "outputs": [],
   "source": [
    "import pandas as pd\n",
    "import tensorflow as tf\n",
    "from sklearn.model_selection import train_test_split\n",
    "from sklearn.preprocessing import LabelEncoder\n",
    "from tensorflow.keras.preprocessing.text import Tokenizer\n",
    "from tensorflow.keras.preprocessing.sequence import pad_sequences\n",
    "from tensorflow.keras.layers import Input, Embedding, Dense, MultiHeadAttention, LayerNormalization\n",
    "from tensorflow.keras.models import Model\n",
    "from sklearn.metrics import accuracy_score, precision_score, recall_score, f1_score, confusion_matrix, roc_auc_score\n"
   ]
  },
  {
   "cell_type": "code",
   "execution_count": 23,
   "id": "428ebbd1",
   "metadata": {},
   "outputs": [],
   "source": [
    "def build_transformer_model(max_seq_length, vocab_size):\n",
    "    input_layer = Input(shape=(max_seq_length,))\n",
    "    embedding_layer = Embedding(vocab_size, 100)(input_layer)\n",
    "    attention_layer = MultiHeadAttention(num_heads=4, key_dim=100, dropout=0.2)(embedding_layer, embedding_layer, embedding_layer)\n",
    "    attention_layer = LayerNormalization()(attention_layer)\n",
    "    attention_layer = tf.keras.layers.Flatten()(attention_layer)\n",
    "    output_layer = Dense(len(label_encoder.classes_), activation='softmax')(attention_layer)\n",
    "\n",
    "    model = Model(inputs=input_layer, outputs=output_layer)\n",
    "    return model"
   ]
  },
  {
   "cell_type": "code",
   "execution_count": 24,
   "id": "f0832c5d",
   "metadata": {},
   "outputs": [],
   "source": [
    "# Read the dataset\n",
    "df = pd.read_csv('downsampled_dataset.csv', encoding='latin-1')\n",
    "\n",
    "# Handle missing values in the 'Tweet' column\n",
    "df['Tweet'].fillna('', inplace=True)\n"
   ]
  },
  {
   "cell_type": "code",
   "execution_count": 25,
   "id": "cf30ba54",
   "metadata": {},
   "outputs": [],
   "source": [
    "# Split the data into training and testing sets\n",
    "X_train, X_test, y_train, y_test = train_test_split(df['Tweet'], df['Sentiment'], test_size=0.2, random_state=42)\n"
   ]
  },
  {
   "cell_type": "code",
   "execution_count": 26,
   "id": "f5b28bd4",
   "metadata": {},
   "outputs": [],
   "source": [
    "# Encode the target variable\n",
    "label_encoder = LabelEncoder()\n",
    "y_train_encoded = label_encoder.fit_transform(y_train)\n",
    "y_test_encoded = label_encoder.transform(y_test)\n"
   ]
  },
  {
   "cell_type": "code",
   "execution_count": 27,
   "id": "fa80735a",
   "metadata": {},
   "outputs": [],
   "source": [
    "# Tokenize the text\n",
    "tokenizer = Tokenizer()\n",
    "tokenizer.fit_on_texts(X_train)\n",
    "X_train_seq = tokenizer.texts_to_sequences(X_train)\n",
    "X_test_seq = tokenizer.texts_to_sequences(X_test)\n"
   ]
  },
  {
   "cell_type": "code",
   "execution_count": 28,
   "id": "439e94eb",
   "metadata": {},
   "outputs": [],
   "source": [
    "# Pad sequences\n",
    "max_seq_length = max(len(seq) for seq in X_train_seq)\n",
    "X_train_padded = pad_sequences(X_train_seq, maxlen=max_seq_length)\n",
    "X_test_padded = pad_sequences(X_test_seq, maxlen=max_seq_length)\n"
   ]
  },
  {
   "cell_type": "code",
   "execution_count": 29,
   "id": "14fa05dc",
   "metadata": {},
   "outputs": [],
   "source": [
    "# Create an input layer for the model\n",
    "input_layer = Input(shape=(max_seq_length,))\n"
   ]
  },
  {
   "cell_type": "code",
   "execution_count": 30,
   "id": "05c03139",
   "metadata": {},
   "outputs": [],
   "source": [
    "# Add the embedding layer\n",
    "embedding_layer = Embedding(len(tokenizer.word_index) + 1, 100)(input_layer)\n"
   ]
  },
  {
   "cell_type": "code",
   "execution_count": 31,
   "id": "e35cd6c2",
   "metadata": {},
   "outputs": [],
   "source": [
    "# Add the MultiHeadAttention layer\n",
    "attention_layer = MultiHeadAttention(num_heads=4, key_dim=100, dropout=0.2)(embedding_layer, embedding_layer, embedding_layer)\n"
   ]
  },
  {
   "cell_type": "code",
   "execution_count": 32,
   "id": "21f2889a",
   "metadata": {},
   "outputs": [],
   "source": [
    "# Add LayerNormalization\n",
    "attention_layer = LayerNormalization()(attention_layer)\n"
   ]
  },
  {
   "cell_type": "code",
   "execution_count": 33,
   "id": "d0604a6e",
   "metadata": {},
   "outputs": [],
   "source": [
    "# Flatten the attention output\n",
    "attention_layer = tf.keras.layers.Flatten()(attention_layer)\n"
   ]
  },
  {
   "cell_type": "code",
   "execution_count": 34,
   "id": "7b5cb21f",
   "metadata": {},
   "outputs": [],
   "source": [
    "# Add the output layer\n",
    "output_layer = Dense(len(label_encoder.classes_), activation='softmax')(attention_layer)\n"
   ]
  },
  {
   "cell_type": "code",
   "execution_count": 35,
   "id": "00581ff6",
   "metadata": {},
   "outputs": [],
   "source": [
    "# Create the Attention/Transformer model\n",
    "model_transformer = Model(inputs=input_layer, outputs=output_layer)\n"
   ]
  },
  {
   "cell_type": "code",
   "execution_count": 36,
   "id": "949a340f",
   "metadata": {},
   "outputs": [],
   "source": [
    "# Compile the model\n",
    "model_transformer.compile(loss='sparse_categorical_crossentropy', optimizer='adam', metrics=['accuracy'])\n"
   ]
  },
  {
   "cell_type": "code",
   "execution_count": 37,
   "id": "d81d9936",
   "metadata": {},
   "outputs": [
    {
     "name": "stdout",
     "output_type": "stream",
     "text": [
      "Epoch 1/10\n",
      "249/249 [==============================] - 7s 26ms/step - loss: 1.1949 - accuracy: 0.5624\n",
      "Epoch 2/10\n",
      "249/249 [==============================] - 7s 28ms/step - loss: 0.7932 - accuracy: 0.6984\n",
      "Epoch 3/10\n",
      "249/249 [==============================] - 7s 28ms/step - loss: 0.4257 - accuracy: 0.8457\n",
      "Epoch 4/10\n",
      "249/249 [==============================] - 7s 28ms/step - loss: 0.1647 - accuracy: 0.9435\n",
      "Epoch 5/10\n",
      "249/249 [==============================] - 7s 28ms/step - loss: 0.0614 - accuracy: 0.9810\n",
      "Epoch 6/10\n",
      "249/249 [==============================] - 7s 29ms/step - loss: 0.0389 - accuracy: 0.9895\n",
      "Epoch 7/10\n",
      "249/249 [==============================] - 8s 30ms/step - loss: 0.0162 - accuracy: 0.9955\n",
      "Epoch 8/10\n",
      "249/249 [==============================] - 7s 28ms/step - loss: 0.0319 - accuracy: 0.9903\n",
      "Epoch 9/10\n",
      "249/249 [==============================] - 7s 28ms/step - loss: 0.0996 - accuracy: 0.9743\n",
      "Epoch 10/10\n",
      "249/249 [==============================] - 7s 28ms/step - loss: 0.0657 - accuracy: 0.9827\n"
     ]
    },
    {
     "data": {
      "text/plain": [
       "<keras.src.callbacks.History at 0x177fa7fd0>"
      ]
     },
     "execution_count": 37,
     "metadata": {},
     "output_type": "execute_result"
    }
   ],
   "source": [
    "# Train the model\n",
    "batch_size = 32\n",
    "model_transformer.fit(X_train_padded, y_train_encoded, epochs=10, batch_size=batch_size)\n"
   ]
  },
  {
   "cell_type": "code",
   "execution_count": 38,
   "id": "f1a7a7f6",
   "metadata": {},
   "outputs": [
    {
     "name": "stdout",
     "output_type": "stream",
     "text": [
      "63/63 [==============================] - 1s 9ms/step\n"
     ]
    }
   ],
   "source": [
    "# Evaluate the Attention/Transformer model\n",
    "y_pred_transformer_prob = model_transformer.predict(X_test_padded)\n",
    "y_pred_transformer = y_pred_transformer_prob.argmax(axis=-1)\n"
   ]
  },
  {
   "cell_type": "code",
   "execution_count": 39,
   "id": "f3636ffc",
   "metadata": {},
   "outputs": [],
   "source": [
    "# Calculate evaluation metrics for the Attention/Transformer model\n",
    "accuracy_transformer = accuracy_score(y_test_encoded, y_pred_transformer)\n",
    "precision_transformer = precision_score(y_test_encoded, y_pred_transformer, average='macro')\n",
    "recall_transformer = recall_score(y_test_encoded, y_pred_transformer, average='macro')\n",
    "f1_transformer = f1_score(y_test_encoded, y_pred_transformer, average='macro')\n",
    "confusion_mat_transformer = confusion_matrix(y_test_encoded, y_pred_transformer)\n",
    "auc_score_transformer = roc_auc_score(y_test_encoded, y_pred_transformer_prob, multi_class='ovo')\n"
   ]
  },
  {
   "cell_type": "code",
   "execution_count": 40,
   "id": "fab7720e",
   "metadata": {},
   "outputs": [
    {
     "name": "stdout",
     "output_type": "stream",
     "text": [
      "\n",
      "Attention/Transformer Model Metrics:\n",
      "Accuracy: 0.5961732124874118\n",
      "Precision: 0.4189117746330135\n",
      "Recall: 0.3986673440572891\n",
      "F1-score: 0.38986552097599475\n",
      "Confusion Matrix:\n",
      "[[ 37   4  42  29  27]\n",
      " [ 22  15  53  19 179]\n",
      " [ 36   7 140  18 119]\n",
      " [ 44   6  37  67  33]\n",
      " [ 26  21  64  16 925]]\n",
      "AUC Score: 0.7026774444930516\n"
     ]
    }
   ],
   "source": [
    "# Print Attention/Transformer model performance metrics\n",
    "print(\"\\nAttention/Transformer Model Metrics:\")\n",
    "print(\"Accuracy:\", accuracy_transformer)\n",
    "print(\"Precision:\", precision_transformer)\n",
    "print(\"Recall:\", recall_transformer)\n",
    "print(\"F1-score:\", f1_transformer)\n",
    "print(\"Confusion Matrix:\")\n",
    "print(confusion_mat_transformer)\n",
    "print(\"AUC Score:\", auc_score_transformer)\n"
   ]
  },
  {
   "cell_type": "code",
   "execution_count": 42,
   "id": "6daea887",
   "metadata": {},
   "outputs": [],
   "source": [
    "import pandas as pd\n",
    "import tensorflow as tf\n",
    "from sklearn.model_selection import train_test_split\n",
    "from sklearn.preprocessing import LabelEncoder\n",
    "from tensorflow.keras.preprocessing.text import Tokenizer\n",
    "from tensorflow.keras.preprocessing.sequence import pad_sequences\n",
    "from tensorflow.keras.layers import Input, Embedding, Dense, MultiHeadAttention, LayerNormalization, LSTM\n",
    "from tensorflow.keras.models import Model\n",
    "from sklearn.metrics import accuracy_score, precision_score, recall_score, f1_score, confusion_matrix, roc_auc_score"
   ]
  },
  {
   "cell_type": "code",
   "execution_count": 43,
   "id": "47bd2fc9",
   "metadata": {},
   "outputs": [],
   "source": [
    "# Build the RNN/LSTM model\n",
    "model_rnn = Sequential()\n",
    "model_rnn.add(Embedding(len(tokenizer.word_index) + 1, 100, input_length=max_seq_length))\n",
    "model_rnn.add(Bidirectional(LSTM(64)))\n",
    "model_rnn.add(Dense(len(label_encoder.classes_), activation='softmax'))"
   ]
  },
  {
   "cell_type": "code",
   "execution_count": 44,
   "id": "d9902ce1",
   "metadata": {},
   "outputs": [],
   "source": [
    "# Compile the RNN/LSTM model\n",
    "model_rnn.compile(loss='sparse_categorical_crossentropy', optimizer='adam', metrics=['accuracy'])"
   ]
  },
  {
   "cell_type": "code",
   "execution_count": 45,
   "id": "17d3ed47",
   "metadata": {},
   "outputs": [
    {
     "name": "stdout",
     "output_type": "stream",
     "text": [
      "Epoch 1/10\n",
      "249/249 [==============================] - 6s 20ms/step - loss: 1.1882 - accuracy: 0.5689\n",
      "Epoch 2/10\n",
      "249/249 [==============================] - 5s 21ms/step - loss: 0.8137 - accuracy: 0.6834\n",
      "Epoch 3/10\n",
      "249/249 [==============================] - 5s 22ms/step - loss: 0.4975 - accuracy: 0.8109\n",
      "Epoch 4/10\n",
      "249/249 [==============================] - 5s 21ms/step - loss: 0.2929 - accuracy: 0.9006\n",
      "Epoch 5/10\n",
      "249/249 [==============================] - 6s 22ms/step - loss: 0.1499 - accuracy: 0.9516\n",
      "Epoch 6/10\n",
      "249/249 [==============================] - 5s 21ms/step - loss: 0.0677 - accuracy: 0.9805\n",
      "Epoch 7/10\n",
      "249/249 [==============================] - 5s 21ms/step - loss: 0.0315 - accuracy: 0.9926\n",
      "Epoch 8/10\n",
      "249/249 [==============================] - 5s 21ms/step - loss: 0.0202 - accuracy: 0.9946\n",
      "Epoch 9/10\n",
      "249/249 [==============================] - 5s 21ms/step - loss: 0.0175 - accuracy: 0.9962\n",
      "Epoch 10/10\n",
      "249/249 [==============================] - 5s 21ms/step - loss: 0.0148 - accuracy: 0.9967\n"
     ]
    },
    {
     "data": {
      "text/plain": [
       "<keras.src.callbacks.History at 0x177a2db10>"
      ]
     },
     "execution_count": 45,
     "metadata": {},
     "output_type": "execute_result"
    }
   ],
   "source": [
    "# Train the RNN/LSTM model\n",
    "model_rnn.fit(X_train_padded, y_train_encoded, epochs=10, batch_size=batch_size)"
   ]
  },
  {
   "cell_type": "code",
   "execution_count": 51,
   "id": "e2b77a2a",
   "metadata": {},
   "outputs": [
    {
     "name": "stdout",
     "output_type": "stream",
     "text": [
      "63/63 [==============================] - 0s 5ms/step\n"
     ]
    }
   ],
   "source": [
    "# Predict sentiment labels for the test set using RNN/LSTM model\n",
    "y_pred_rnn_prob = model_rnn.predict(X_test_padded)\n",
    "y_pred_rnn = y_pred_rnn_prob.argmax(axis=-1)"
   ]
  },
  {
   "cell_type": "code",
   "execution_count": 52,
   "id": "d68c81c1",
   "metadata": {},
   "outputs": [],
   "source": [
    "# Evaluate the RNN/LSTM model\n",
    "accuracy_rnn = accuracy_score(y_test_encoded, y_pred_rnn)\n",
    "precision_rnn = precision_score(y_test_encoded, y_pred_rnn, average='macro')\n",
    "recall_rnn = recall_score(y_test_encoded, y_pred_rnn, average='macro')\n",
    "f1_rnn = f1_score(y_test_encoded, y_pred_rnn, average='macro')\n",
    "confusion_mat_rnn = confusion_matrix(y_test_encoded, y_pred_rnn)\n",
    "auc_score_rnn = roc_auc_score(y_test_encoded, y_pred_rnn_prob, multi_class='ovo')"
   ]
  },
  {
   "cell_type": "code",
   "execution_count": 53,
   "id": "be4c774a",
   "metadata": {},
   "outputs": [
    {
     "name": "stdout",
     "output_type": "stream",
     "text": [
      "\n",
      "RNN/LSTM Model Metrics:\n",
      "Accuracy: 0.5835850956696879\n",
      "Precision: 0.4265959694846847\n",
      "Recall: 0.38948370604465976\n",
      "F1-score: 0.3992012861537763\n",
      "Confusion Matrix:\n",
      "[[ 22  30  38  17  32]\n",
      " [ 17  67  49  10 145]\n",
      " [ 14  48 151  14  93]\n",
      " [ 43  21  49  48  26]\n",
      " [ 10 103  60   8 871]]\n",
      "AUC Score: 0.6951345434892136\n",
      "\n",
      "Attention/Transformer Model Metrics:\n",
      "Accuracy: 0.5961732124874118\n",
      "Precision: 0.4189117746330135\n",
      "Recall: 0.3986673440572891\n",
      "F1-score: 0.38986552097599475\n",
      "Confusion Matrix:\n",
      "[[ 37   4  42  29  27]\n",
      " [ 22  15  53  19 179]\n",
      " [ 36   7 140  18 119]\n",
      " [ 44   6  37  67  33]\n",
      " [ 26  21  64  16 925]]\n",
      "AUC Score: 0.7026774444930516\n"
     ]
    }
   ],
   "source": [
    "# Print performance metrics for both models\n",
    "print(\"\\nRNN/LSTM Model Metrics:\")\n",
    "print(\"Accuracy:\", accuracy_rnn)\n",
    "print(\"Precision:\", precision_rnn)\n",
    "print(\"Recall:\", recall_rnn)\n",
    "print(\"F1-score:\", f1_rnn)\n",
    "print(\"Confusion Matrix:\")\n",
    "print(confusion_mat_rnn)\n",
    "print(\"AUC Score:\", auc_score_rnn)\n",
    "\n",
    "print(\"\\nAttention/Transformer Model Metrics:\")\n",
    "print(\"Accuracy:\", accuracy_transformer)\n",
    "print(\"Precision:\", precision_transformer)\n",
    "print(\"Recall:\", recall_transformer)\n",
    "print(\"F1-score:\", f1_transformer)\n",
    "print(\"Confusion Matrix:\")\n",
    "print(confusion_mat_transformer)\n",
    "print(\"AUC Score:\", auc_score_transformer)"
   ]
  },
  {
   "cell_type": "code",
   "execution_count": null,
   "id": "562327b5",
   "metadata": {},
   "outputs": [],
   "source": []
  }
 ],
 "metadata": {
  "kernelspec": {
   "display_name": "Python 3 (ipykernel)",
   "language": "python",
   "name": "python3"
  },
  "language_info": {
   "codemirror_mode": {
    "name": "ipython",
    "version": 3
   },
   "file_extension": ".py",
   "mimetype": "text/x-python",
   "name": "python",
   "nbconvert_exporter": "python",
   "pygments_lexer": "ipython3",
   "version": "3.11.3"
  }
 },
 "nbformat": 4,
 "nbformat_minor": 5
}
